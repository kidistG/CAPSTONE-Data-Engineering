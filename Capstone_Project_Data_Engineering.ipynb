{
 "cells": [
  {
   "cell_type": "markdown",
   "metadata": {},
   "source": [
    "Load Credit Card Database (SQL)"
   ]
  },
  {
   "cell_type": "markdown",
   "metadata": {},
   "source": [
    "Data Extraction and Transformation with Python and PySpark\n",
    "\n",
    "For “Credit Card System,” create a Python and PySpark SQL program to read/extract the following JSON files according to the specifications found in the mapping document\n",
    "\n",
    "1. CDW_SAPP_BRANCH.JSON\n",
    "2. CDW_SAPP_CREDITCARD.JSON\n",
    "3. CDW_SAPP_CUSTOMER.JSON"
   ]
  },
  {
   "cell_type": "code",
   "execution_count": 2,
   "metadata": {},
   "outputs": [
    {
     "name": "stdout",
     "output_type": "stream",
     "text": [
      "+-----------------+-----------+------------+------------+------------+-----------------+----------+--------------------+\n",
      "|      BRANCH_CITY|BRANCH_CODE| BRANCH_NAME|BRANCH_PHONE|BRANCH_STATE|    BRANCH_STREET|BRANCH_ZIP|        LAST_UPDATED|\n",
      "+-----------------+-----------+------------+------------+------------+-----------------+----------+--------------------+\n",
      "|        Lakeville|          1|Example Bank|  1234565276|          MN|     Bridle Court|     55044|2018-04-18T16:51:...|\n",
      "|          Huntley|          2|Example Bank|  1234618993|          IL|Washington Street|     60142|2018-04-18T16:51:...|\n",
      "|SouthRichmondHill|          3|Example Bank|  1234985926|          NY|    Warren Street|     11419|2018-04-18T16:51:...|\n",
      "|       Middleburg|          4|Example Bank|  1234663064|          FL| Cleveland Street|     32068|2018-04-18T16:51:...|\n",
      "|    KingOfPrussia|          5|Example Bank|  1234849701|          PA|      14th Street|     19406|2018-04-18T16:51:...|\n",
      "+-----------------+-----------+------------+------------+------------+-----------------+----------+--------------------+\n",
      "only showing top 5 rows\n",
      "\n"
     ]
    }
   ],
   "source": [
    "import pyspark\n",
    "from pyspark.sql import SparkSession\n",
    "spark = SparkSession.builder.appName('Capstone_demo').getOrCreate()\n",
    "\n",
    "#Read json file which holds branch information into dataframe\n",
    "df_branch = spark.read.json(\"cdw_sapp_branch.json\")\n",
    "df_branch.show(5)"
   ]
  },
  {
   "cell_type": "code",
   "execution_count": 3,
   "metadata": {},
   "outputs": [
    {
     "name": "stdout",
     "output_type": "stream",
     "text": [
      "+-----------+----------------+---------+---+-----+--------------+----------------+-----------------+----+\n",
      "|BRANCH_CODE|  CREDIT_CARD_NO| CUST_SSN|DAY|MONTH|TRANSACTION_ID|TRANSACTION_TYPE|TRANSACTION_VALUE|YEAR|\n",
      "+-----------+----------------+---------+---+-----+--------------+----------------+-----------------+----+\n",
      "|        114|4210653349028689|123459988| 14|    2|             1|       Education|             78.9|2018|\n",
      "|         35|4210653349028689|123459988| 20|    3|             2|   Entertainment|            14.24|2018|\n",
      "|        160|4210653349028689|123459988|  8|    7|             3|         Grocery|             56.7|2018|\n",
      "|        114|4210653349028689|123459988| 19|    4|             4|   Entertainment|            59.73|2018|\n",
      "|         93|4210653349028689|123459988| 10|   10|             5|             Gas|             3.59|2018|\n",
      "+-----------+----------------+---------+---+-----+--------------+----------------+-----------------+----+\n",
      "only showing top 5 rows\n",
      "\n"
     ]
    }
   ],
   "source": [
    "#Read json file which holds credit card information into dataframe\n",
    "df_creditCard = spark.read.load(\"cdw_sapp_credit.json\", format=\"json\", header = True,inferSchema = True)\n",
    "df_creditCard.show(5)"
   ]
  },
  {
   "cell_type": "code",
   "execution_count": 4,
   "metadata": {},
   "outputs": [
    {
     "name": "stdout",
     "output_type": "stream",
     "text": [
      "+------+----------------+------------+-------------+-------------------+----------+----------+--------+----------+---------+--------------------+-----------+---------+-----------------+\n",
      "|APT_NO|  CREDIT_CARD_NO|   CUST_CITY| CUST_COUNTRY|         CUST_EMAIL|CUST_PHONE|CUST_STATE|CUST_ZIP|FIRST_NAME|LAST_NAME|        LAST_UPDATED|MIDDLE_NAME|      SSN|      STREET_NAME|\n",
      "+------+----------------+------------+-------------+-------------------+----------+----------+--------+----------+---------+--------------------+-----------+---------+-----------------+\n",
      "|   656|4210653310061055|     Natchez|United States|AHooper@example.com|   1237818|        MS|   39120|      Alec|   Hooper|2018-04-21T12:49:...|         Wm|123456100|Main Street North|\n",
      "|   829|4210653310102868|Wethersfield|United States|EHolman@example.com|   1238933|        CT|   06109|      Etta|   Holman|2018-04-21T12:49:...|    Brendan|123453023|    Redwood Drive|\n",
      "|   683|4210653310116272|     Huntley|United States|WDunham@example.com|   1243018|        IL|   60142|    Wilber|   Dunham|2018-04-21T12:49:...|   Ezequiel|123454487| 12th Street East|\n",
      "|   253|4210653310195948|   NewBerlin|United States| EHardy@example.com|   1243215|        WI|   53151|   Eugenio|    Hardy|2018-04-21T12:49:...|      Trina|123459758|Country Club Road|\n",
      "|   301|4210653310356919|      ElPaso|United States| WAyers@example.com|   1242074|        TX|   79930|   Wilfred|    Ayers|2018-04-21T12:49:...|        May|123454431|   Madison Street|\n",
      "+------+----------------+------------+-------------+-------------------+----------+----------+--------+----------+---------+--------------------+-----------+---------+-----------------+\n",
      "only showing top 5 rows\n",
      "\n"
     ]
    }
   ],
   "source": [
    "#Read json file which holds customer information into dataframe\n",
    "df_customer = spark.read.load(\"cdw_sapp_custmer.json\", format=\"json\", header = True,inferSchema = True)\n",
    "df_customer.show(5)"
   ]
  },
  {
   "cell_type": "markdown",
   "metadata": {},
   "source": [
    "Extract all the JSON files based on the mapping "
   ]
  },
  {
   "cell_type": "code",
   "execution_count": 8,
   "metadata": {},
   "outputs": [
    {
     "name": "stdout",
     "output_type": "stream",
     "text": [
      "root\n",
      " |-- BRANCH_CODE: long (nullable = true)\n",
      " |-- BRANCH_NAME: string (nullable = true)\n",
      " |-- BRANCH_STREET: string (nullable = true)\n",
      " |-- BRANCH_CITY: string (nullable = true)\n",
      " |-- BRANCH_STATE: string (nullable = true)\n",
      " |-- BRANCH_ZIP: long (nullable = true)\n",
      " |-- BRANCH_PHONE: string (nullable = true)\n",
      " |-- LAST_UPDATED: string (nullable = true)\n",
      "\n",
      "+-----------+------------+-----------------+-----------------+------------+----------+------------+--------------------+\n",
      "|BRANCH_CODE| BRANCH_NAME|    BRANCH_STREET|      BRANCH_CITY|BRANCH_STATE|BRANCH_ZIP|BRANCH_PHONE|        LAST_UPDATED|\n",
      "+-----------+------------+-----------------+-----------------+------------+----------+------------+--------------------+\n",
      "|          1|Example Bank|     Bridle Court|        Lakeville|          MN|     55044|  1234565276|2018-04-18T16:51:...|\n",
      "|          2|Example Bank|Washington Street|          Huntley|          IL|     60142|  1234618993|2018-04-18T16:51:...|\n",
      "|          3|Example Bank|    Warren Street|SouthRichmondHill|          NY|     11419|  1234985926|2018-04-18T16:51:...|\n",
      "|          4|Example Bank| Cleveland Street|       Middleburg|          FL|     32068|  1234663064|2018-04-18T16:51:...|\n",
      "|          5|Example Bank|      14th Street|    KingOfPrussia|          PA|     19406|  1234849701|2018-04-18T16:51:...|\n",
      "+-----------+------------+-----------------+-----------------+------------+----------+------------+--------------------+\n",
      "only showing top 5 rows\n",
      "\n"
     ]
    }
   ],
   "source": [
    "df_branch_new = df_branch.select(\"BRANCH_CODE\", \"BRANCH_NAME\", \"BRANCH_STREET\", \"BRANCH_CITY\", \"BRANCH_STATE\", \"BRANCH_ZIP\", \"BRANCH_PHONE\", \"LAST_UPDATED\")\n",
    "# display the schema in tree format\n",
    "df_branch_new.printSchema()\n",
    "#show the first five rows\n",
    "df_branch_new.show(5)\n"
   ]
  },
  {
   "cell_type": "code",
   "execution_count": 9,
   "metadata": {},
   "outputs": [
    {
     "name": "stdout",
     "output_type": "stream",
     "text": [
      "root\n",
      " |-- CREDIT_CARD_NO: string (nullable = true)\n",
      " |-- DAY: long (nullable = true)\n",
      " |-- MONTH: long (nullable = true)\n",
      " |-- YEAR: long (nullable = true)\n",
      " |-- CUST_SSN: long (nullable = true)\n",
      " |-- BRANCH_CODE: long (nullable = true)\n",
      " |-- TRANSACTION_TYPE: string (nullable = true)\n",
      " |-- TRANSACTION_VALUE: double (nullable = true)\n",
      " |-- TRANSACTION_ID: long (nullable = true)\n",
      "\n",
      "+----------------+---+-----+----+---------+-----------+----------------+-----------------+--------------+\n",
      "|  CREDIT_CARD_NO|DAY|MONTH|YEAR| CUST_SSN|BRANCH_CODE|TRANSACTION_TYPE|TRANSACTION_VALUE|TRANSACTION_ID|\n",
      "+----------------+---+-----+----+---------+-----------+----------------+-----------------+--------------+\n",
      "|4210653349028689| 14|    2|2018|123459988|        114|       Education|             78.9|             1|\n",
      "|4210653349028689| 20|    3|2018|123459988|         35|   Entertainment|            14.24|             2|\n",
      "|4210653349028689|  8|    7|2018|123459988|        160|         Grocery|             56.7|             3|\n",
      "|4210653349028689| 19|    4|2018|123459988|        114|   Entertainment|            59.73|             4|\n",
      "|4210653349028689| 10|   10|2018|123459988|         93|             Gas|             3.59|             5|\n",
      "+----------------+---+-----+----+---------+-----------+----------------+-----------------+--------------+\n",
      "only showing top 5 rows\n",
      "\n"
     ]
    }
   ],
   "source": [
    "df_creditCard_new = df_creditCard.select(\"CREDIT_CARD_NO\",\"DAY\", \"MONTH\", \"YEAR\", \"CUST_SSN\", \"BRANCH_CODE\", \"TRANSACTION_TYPE\", \"TRANSACTION_VALUE\", \"TRANSACTION_ID\")\n",
    "# display the schema in tree format\n",
    "df_creditCard_new.printSchema()\n",
    "#show the first five rows\n",
    "df_creditCard_new.show(5)\n"
   ]
  },
  {
   "cell_type": "code",
   "execution_count": 10,
   "metadata": {},
   "outputs": [
    {
     "name": "stdout",
     "output_type": "stream",
     "text": [
      "root\n",
      " |-- SSN: long (nullable = true)\n",
      " |-- FIRST_NAME: string (nullable = true)\n",
      " |-- MIDDLE_NAME: string (nullable = true)\n",
      " |-- LAST_NAME: string (nullable = true)\n",
      " |-- CREDIT_CARD_NO: string (nullable = true)\n",
      " |-- STREET_NAME: string (nullable = true)\n",
      " |-- APT_NO: string (nullable = true)\n",
      " |-- CUST_CITY: string (nullable = true)\n",
      " |-- CUST_STATE: string (nullable = true)\n",
      " |-- CUST_COUNTRY: string (nullable = true)\n",
      " |-- CUST_ZIP: string (nullable = true)\n",
      " |-- CUST_PHONE: long (nullable = true)\n",
      " |-- CUST_EMAIL: string (nullable = true)\n",
      " |-- LAST_UPDATED: string (nullable = true)\n",
      "\n",
      "+---------+----------+-----------+---------+----------------+-----------------+------+------------+----------+-------------+--------+----------+-------------------+--------------------+\n",
      "|      SSN|FIRST_NAME|MIDDLE_NAME|LAST_NAME|  CREDIT_CARD_NO|      STREET_NAME|APT_NO|   CUST_CITY|CUST_STATE| CUST_COUNTRY|CUST_ZIP|CUST_PHONE|         CUST_EMAIL|        LAST_UPDATED|\n",
      "+---------+----------+-----------+---------+----------------+-----------------+------+------------+----------+-------------+--------+----------+-------------------+--------------------+\n",
      "|123456100|      Alec|         Wm|   Hooper|4210653310061055|Main Street North|   656|     Natchez|        MS|United States|   39120|   1237818|AHooper@example.com|2018-04-21T12:49:...|\n",
      "|123453023|      Etta|    Brendan|   Holman|4210653310102868|    Redwood Drive|   829|Wethersfield|        CT|United States|   06109|   1238933|EHolman@example.com|2018-04-21T12:49:...|\n",
      "|123454487|    Wilber|   Ezequiel|   Dunham|4210653310116272| 12th Street East|   683|     Huntley|        IL|United States|   60142|   1243018|WDunham@example.com|2018-04-21T12:49:...|\n",
      "|123459758|   Eugenio|      Trina|    Hardy|4210653310195948|Country Club Road|   253|   NewBerlin|        WI|United States|   53151|   1243215| EHardy@example.com|2018-04-21T12:49:...|\n",
      "|123454431|   Wilfred|        May|    Ayers|4210653310356919|   Madison Street|   301|      ElPaso|        TX|United States|   79930|   1242074| WAyers@example.com|2018-04-21T12:49:...|\n",
      "+---------+----------+-----------+---------+----------------+-----------------+------+------------+----------+-------------+--------+----------+-------------------+--------------------+\n",
      "only showing top 5 rows\n",
      "\n"
     ]
    }
   ],
   "source": [
    "df_customer_new=df_customer.select(\"SSN\", \"FIRST_NAME\", \"MIDDLE_NAME\", \"LAST_NAME\", \"CREDIT_CARD_NO\", \"STREET_NAME\", \"APT_NO\", \"CUST_CITY\",\n",
    "\"CUST_STATE\", \"CUST_COUNTRY\", \"CUST_ZIP\", \"CUST_PHONE\", \"CUST_EMAIL\", \"LAST_UPDATED\")\n",
    "# display the schema in tree format\n",
    "df_customer_new.printSchema()\n",
    "#show the first five rows\n",
    "df_customer_new.show(5)"
   ]
  }
 ],
 "metadata": {
  "kernelspec": {
   "display_name": "Python 3",
   "language": "python",
   "name": "python3"
  },
  "language_info": {
   "codemirror_mode": {
    "name": "ipython",
    "version": 3
   },
   "file_extension": ".py",
   "mimetype": "text/x-python",
   "name": "python",
   "nbconvert_exporter": "python",
   "pygments_lexer": "ipython3",
   "version": "3.10.11"
  }
 },
 "nbformat": 4,
 "nbformat_minor": 2
}
