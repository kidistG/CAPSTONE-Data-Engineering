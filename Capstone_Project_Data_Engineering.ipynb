{
 "cells": [
  {
   "cell_type": "markdown",
   "metadata": {},
   "source": [
    "Load Credit Card Database (SQL)"
   ]
  },
  {
   "cell_type": "markdown",
   "metadata": {},
   "source": [
    "1.1 Data Extraction and Transformation with Python and PySpark\n",
    "\n",
    "For “Credit Card System,” create a Python and PySpark SQL program to read/extract the following JSON files according to the specifications found in the mapping document\n",
    "\n",
    "1. CDW_SAPP_BRANCH.JSON\n",
    "2. CDW_SAPP_CREDITCARD.JSON\n",
    "3. CDW_SAPP_CUSTOMER.JSON"
   ]
  },
  {
   "cell_type": "code",
   "execution_count": 17,
   "metadata": {},
   "outputs": [
    {
     "name": "stdout",
     "output_type": "stream",
     "text": [
      "+-----------------+-----------+------------+------------+------------+-------------------+----------+--------------------+\n",
      "|      BRANCH_CITY|BRANCH_CODE| BRANCH_NAME|BRANCH_PHONE|BRANCH_STATE|      BRANCH_STREET|BRANCH_ZIP|        LAST_UPDATED|\n",
      "+-----------------+-----------+------------+------------+------------+-------------------+----------+--------------------+\n",
      "|        Lakeville|          1|Example Bank|  1234565276|          MN|       Bridle Court|     55044|2018-04-18T16:51:...|\n",
      "|          Huntley|          2|Example Bank|  1234618993|          IL|  Washington Street|     60142|2018-04-18T16:51:...|\n",
      "|SouthRichmondHill|          3|Example Bank|  1234985926|          NY|      Warren Street|     11419|2018-04-18T16:51:...|\n",
      "|       Middleburg|          4|Example Bank|  1234663064|          FL|   Cleveland Street|     32068|2018-04-18T16:51:...|\n",
      "|    KingOfPrussia|          5|Example Bank|  1234849701|          PA|        14th Street|     19406|2018-04-18T16:51:...|\n",
      "|         Paterson|          7|Example Bank|  1234144890|          NJ|   Jefferson Street|      7501|2018-04-18T16:51:...|\n",
      "|        Pittsford|          8|Example Bank|  1234678272|          NY|           B Street|     14534|2018-04-18T16:51:...|\n",
      "|     Wethersfield|          9|Example Bank|  1234675219|          CT|    Jefferson Court|      6109|2018-04-18T16:51:...|\n",
      "|     NorthOlmsted|         10|Example Bank|  1234145047|          OH|     Cambridge Road|     44070|2018-04-18T16:51:...|\n",
      "|     Hillsborough|         11|Example Bank|  1234366354|          NJ|    3rd Street West|      8844|2018-04-18T16:51:...|\n",
      "|   MadisonHeights|         12|Example Bank|  1234867175|          MI|          Mill Road|     48071|2018-04-18T16:51:...|\n",
      "|           Oviedo|         14|Example Bank|  1234938460|          FL|  Washington Street|     32765|2018-04-18T16:51:...|\n",
      "|    Mechanicsburg|         15|Example Bank|  1234462043|          PA|    Chestnut Street|     17050|2018-04-18T16:51:...|\n",
      "|        Plainview|         16|Example Bank|  1234857525|          NY|       Monroe Drive|     11803|2018-04-18T16:51:...|\n",
      "|          Paducah|         17|Example Bank|  1234546360|          KY|    Railroad Street|     42001|2018-04-18T16:51:...|\n",
      "|     Harleysville|         18|Example Bank|  1234824455|          PA|Church Street South|     19438|2018-04-18T16:51:...|\n",
      "|     SilverSpring|         19|Example Bank|  1234484380|          MD|        King Street|     20901|2018-04-18T16:51:...|\n",
      "|       Burnsville|         20|Example Bank|  1234840138|          MN|   Canterbury Drive|     55337|2018-04-18T16:51:...|\n",
      "|           Tacoma|         21|Example Bank|  1234362433|          WA|         2nd Avenue|     98444|2018-04-18T16:51:...|\n",
      "|         Carlisle|         22|Example Bank|  1234922492|          PA| Front Street South|     17013|2018-04-18T16:51:...|\n",
      "+-----------------+-----------+------------+------------+------------+-------------------+----------+--------------------+\n",
      "only showing top 20 rows\n",
      "\n"
     ]
    }
   ],
   "source": [
    "import pyspark\n",
    "from pyspark.sql import SparkSession\n",
    "spark = SparkSession.builder.appName('Capstone_demo').getOrCreate()\n",
    "\n",
    "#Read json file which holds branch information into dataframe\n",
    "df_branch = spark.read.json(\"cdw_sapp_branch.json\")\n",
    "df_branch.show()"
   ]
  },
  {
   "cell_type": "code",
   "execution_count": 18,
   "metadata": {},
   "outputs": [
    {
     "name": "stdout",
     "output_type": "stream",
     "text": [
      "+-----------+----------------+---------+---+-----+--------------+----------------+-----------------+----+\n",
      "|BRANCH_CODE|  CREDIT_CARD_NO| CUST_SSN|DAY|MONTH|TRANSACTION_ID|TRANSACTION_TYPE|TRANSACTION_VALUE|YEAR|\n",
      "+-----------+----------------+---------+---+-----+--------------+----------------+-----------------+----+\n",
      "|        114|4210653349028689|123459988| 14|    2|             1|       Education|             78.9|2018|\n",
      "|         35|4210653349028689|123459988| 20|    3|             2|   Entertainment|            14.24|2018|\n",
      "|        160|4210653349028689|123459988|  8|    7|             3|         Grocery|             56.7|2018|\n",
      "|        114|4210653349028689|123459988| 19|    4|             4|   Entertainment|            59.73|2018|\n",
      "|         93|4210653349028689|123459988| 10|   10|             5|             Gas|             3.59|2018|\n",
      "+-----------+----------------+---------+---+-----+--------------+----------------+-----------------+----+\n",
      "only showing top 5 rows\n",
      "\n"
     ]
    }
   ],
   "source": [
    "#Read json file which holds credit card information into dataframe\n",
    "df_creditCard = spark.read.load(\"cdw_sapp_credit.json\", format=\"json\", header = True,inferSchema = True)\n",
    "df_creditCard.show(5)"
   ]
  },
  {
   "cell_type": "code",
   "execution_count": 19,
   "metadata": {},
   "outputs": [
    {
     "name": "stdout",
     "output_type": "stream",
     "text": [
      "+------+----------------+------------+-------------+-------------------+----------+----------+--------+----------+---------+--------------------+-----------+---------+-----------------+\n",
      "|APT_NO|  CREDIT_CARD_NO|   CUST_CITY| CUST_COUNTRY|         CUST_EMAIL|CUST_PHONE|CUST_STATE|CUST_ZIP|FIRST_NAME|LAST_NAME|        LAST_UPDATED|MIDDLE_NAME|      SSN|      STREET_NAME|\n",
      "+------+----------------+------------+-------------+-------------------+----------+----------+--------+----------+---------+--------------------+-----------+---------+-----------------+\n",
      "|   656|4210653310061055|     Natchez|United States|AHooper@example.com|   1237818|        MS|   39120|      Alec|   Hooper|2018-04-21T12:49:...|         Wm|123456100|Main Street North|\n",
      "|   829|4210653310102868|Wethersfield|United States|EHolman@example.com|   1238933|        CT|   06109|      Etta|   Holman|2018-04-21T12:49:...|    Brendan|123453023|    Redwood Drive|\n",
      "|   683|4210653310116272|     Huntley|United States|WDunham@example.com|   1243018|        IL|   60142|    Wilber|   Dunham|2018-04-21T12:49:...|   Ezequiel|123454487| 12th Street East|\n",
      "|   253|4210653310195948|   NewBerlin|United States| EHardy@example.com|   1243215|        WI|   53151|   Eugenio|    Hardy|2018-04-21T12:49:...|      Trina|123459758|Country Club Road|\n",
      "|   301|4210653310356919|      ElPaso|United States| WAyers@example.com|   1242074|        TX|   79930|   Wilfred|    Ayers|2018-04-21T12:49:...|        May|123454431|   Madison Street|\n",
      "+------+----------------+------------+-------------+-------------------+----------+----------+--------+----------+---------+--------------------+-----------+---------+-----------------+\n",
      "only showing top 5 rows\n",
      "\n"
     ]
    }
   ],
   "source": [
    "#Read json file which holds customer information into dataframe\n",
    "df_customer = spark.read.load(\"cdw_sapp_custmer.json\", format=\"json\", header = True,inferSchema = True)\n",
    "df_customer.show(5)"
   ]
  },
  {
   "cell_type": "markdown",
   "metadata": {},
   "source": [
    "Extract all the JSON files based on the mapping "
   ]
  },
  {
   "cell_type": "code",
   "execution_count": 20,
   "metadata": {},
   "outputs": [
    {
     "name": "stdout",
     "output_type": "stream",
     "text": [
      "root\n",
      " |-- BRANCH_CODE: long (nullable = true)\n",
      " |-- BRANCH_NAME: string (nullable = true)\n",
      " |-- BRANCH_STREET: string (nullable = true)\n",
      " |-- BRANCH_CITY: string (nullable = true)\n",
      " |-- BRANCH_STATE: string (nullable = true)\n",
      " |-- BRANCH_ZIP: long (nullable = true)\n",
      " |-- BRANCH_PHONE: string (nullable = true)\n",
      " |-- LAST_UPDATED: string (nullable = true)\n",
      "\n",
      "+-----------+------------+-----------------+-----------------+------------+----------+------------+--------------------+\n",
      "|BRANCH_CODE| BRANCH_NAME|    BRANCH_STREET|      BRANCH_CITY|BRANCH_STATE|BRANCH_ZIP|BRANCH_PHONE|        LAST_UPDATED|\n",
      "+-----------+------------+-----------------+-----------------+------------+----------+------------+--------------------+\n",
      "|          1|Example Bank|     Bridle Court|        Lakeville|          MN|     55044|  1234565276|2018-04-18T16:51:...|\n",
      "|          2|Example Bank|Washington Street|          Huntley|          IL|     60142|  1234618993|2018-04-18T16:51:...|\n",
      "|          3|Example Bank|    Warren Street|SouthRichmondHill|          NY|     11419|  1234985926|2018-04-18T16:51:...|\n",
      "|          4|Example Bank| Cleveland Street|       Middleburg|          FL|     32068|  1234663064|2018-04-18T16:51:...|\n",
      "|          5|Example Bank|      14th Street|    KingOfPrussia|          PA|     19406|  1234849701|2018-04-18T16:51:...|\n",
      "+-----------+------------+-----------------+-----------------+------------+----------+------------+--------------------+\n",
      "only showing top 5 rows\n",
      "\n"
     ]
    }
   ],
   "source": [
    "df_branch_new = df_branch.select(\"BRANCH_CODE\", \"BRANCH_NAME\", \"BRANCH_STREET\", \"BRANCH_CITY\", \"BRANCH_STATE\", \"BRANCH_ZIP\", \"BRANCH_PHONE\", \"LAST_UPDATED\")\n",
    "# display the schema in tree format\n",
    "df_branch_new.printSchema()\n",
    "#show the first five rows\n",
    "df_branch_new.show(5)\n"
   ]
  },
  {
   "cell_type": "code",
   "execution_count": 21,
   "metadata": {},
   "outputs": [
    {
     "name": "stdout",
     "output_type": "stream",
     "text": [
      "root\n",
      " |-- CREDIT_CARD_NO: string (nullable = true)\n",
      " |-- DAY: long (nullable = true)\n",
      " |-- MONTH: long (nullable = true)\n",
      " |-- YEAR: long (nullable = true)\n",
      " |-- CUST_SSN: long (nullable = true)\n",
      " |-- BRANCH_CODE: long (nullable = true)\n",
      " |-- TRANSACTION_TYPE: string (nullable = true)\n",
      " |-- TRANSACTION_VALUE: double (nullable = true)\n",
      " |-- TRANSACTION_ID: long (nullable = true)\n",
      "\n",
      "+----------------+---+-----+----+---------+-----------+----------------+-----------------+--------------+\n",
      "|  CREDIT_CARD_NO|DAY|MONTH|YEAR| CUST_SSN|BRANCH_CODE|TRANSACTION_TYPE|TRANSACTION_VALUE|TRANSACTION_ID|\n",
      "+----------------+---+-----+----+---------+-----------+----------------+-----------------+--------------+\n",
      "|4210653349028689| 14|    2|2018|123459988|        114|       Education|             78.9|             1|\n",
      "|4210653349028689| 20|    3|2018|123459988|         35|   Entertainment|            14.24|             2|\n",
      "|4210653349028689|  8|    7|2018|123459988|        160|         Grocery|             56.7|             3|\n",
      "|4210653349028689| 19|    4|2018|123459988|        114|   Entertainment|            59.73|             4|\n",
      "|4210653349028689| 10|   10|2018|123459988|         93|             Gas|             3.59|             5|\n",
      "+----------------+---+-----+----+---------+-----------+----------------+-----------------+--------------+\n",
      "only showing top 5 rows\n",
      "\n"
     ]
    }
   ],
   "source": [
    "df_creditCard_new = df_creditCard.select(\"CREDIT_CARD_NO\",\"DAY\", \"MONTH\", \"YEAR\", \"CUST_SSN\", \"BRANCH_CODE\", \"TRANSACTION_TYPE\", \"TRANSACTION_VALUE\", \"TRANSACTION_ID\")\n",
    "# display the schema in tree format\n",
    "df_creditCard_new.printSchema()\n",
    "#show the first five rows\n",
    "df_creditCard_new.show(5)\n"
   ]
  },
  {
   "cell_type": "code",
   "execution_count": 22,
   "metadata": {},
   "outputs": [
    {
     "name": "stdout",
     "output_type": "stream",
     "text": [
      "root\n",
      " |-- SSN: long (nullable = true)\n",
      " |-- FIRST_NAME: string (nullable = true)\n",
      " |-- MIDDLE_NAME: string (nullable = true)\n",
      " |-- LAST_NAME: string (nullable = true)\n",
      " |-- CREDIT_CARD_NO: string (nullable = true)\n",
      " |-- STREET_NAME: string (nullable = true)\n",
      " |-- APT_NO: string (nullable = true)\n",
      " |-- CUST_CITY: string (nullable = true)\n",
      " |-- CUST_STATE: string (nullable = true)\n",
      " |-- CUST_COUNTRY: string (nullable = true)\n",
      " |-- CUST_ZIP: string (nullable = true)\n",
      " |-- CUST_PHONE: long (nullable = true)\n",
      " |-- CUST_EMAIL: string (nullable = true)\n",
      " |-- LAST_UPDATED: string (nullable = true)\n",
      "\n",
      "+---------+----------+-----------+---------+----------------+-----------------+------+------------+----------+-------------+--------+----------+-------------------+--------------------+\n",
      "|      SSN|FIRST_NAME|MIDDLE_NAME|LAST_NAME|  CREDIT_CARD_NO|      STREET_NAME|APT_NO|   CUST_CITY|CUST_STATE| CUST_COUNTRY|CUST_ZIP|CUST_PHONE|         CUST_EMAIL|        LAST_UPDATED|\n",
      "+---------+----------+-----------+---------+----------------+-----------------+------+------------+----------+-------------+--------+----------+-------------------+--------------------+\n",
      "|123456100|      Alec|         Wm|   Hooper|4210653310061055|Main Street North|   656|     Natchez|        MS|United States|   39120|   1237818|AHooper@example.com|2018-04-21T12:49:...|\n",
      "|123453023|      Etta|    Brendan|   Holman|4210653310102868|    Redwood Drive|   829|Wethersfield|        CT|United States|   06109|   1238933|EHolman@example.com|2018-04-21T12:49:...|\n",
      "|123454487|    Wilber|   Ezequiel|   Dunham|4210653310116272| 12th Street East|   683|     Huntley|        IL|United States|   60142|   1243018|WDunham@example.com|2018-04-21T12:49:...|\n",
      "|123459758|   Eugenio|      Trina|    Hardy|4210653310195948|Country Club Road|   253|   NewBerlin|        WI|United States|   53151|   1243215| EHardy@example.com|2018-04-21T12:49:...|\n",
      "|123454431|   Wilfred|        May|    Ayers|4210653310356919|   Madison Street|   301|      ElPaso|        TX|United States|   79930|   1242074| WAyers@example.com|2018-04-21T12:49:...|\n",
      "+---------+----------+-----------+---------+----------------+-----------------+------+------------+----------+-------------+--------+----------+-------------------+--------------------+\n",
      "only showing top 5 rows\n",
      "\n"
     ]
    }
   ],
   "source": [
    "df_customer_new=df_customer.select(\"SSN\", \"FIRST_NAME\", \"MIDDLE_NAME\", \"LAST_NAME\", \"CREDIT_CARD_NO\", \"STREET_NAME\", \"APT_NO\", \"CUST_CITY\",\n",
    "\"CUST_STATE\", \"CUST_COUNTRY\", \"CUST_ZIP\", \"CUST_PHONE\", \"CUST_EMAIL\", \"LAST_UPDATED\")\n",
    "# display the schema in tree format\n",
    "df_customer_new.printSchema()\n",
    "#show the first five rows\n",
    "df_customer_new.show(5)"
   ]
  },
  {
   "cell_type": "markdown",
   "metadata": {},
   "source": [
    " change the data type of the branch to the following based on the mapping\n",
    " [('BRANCH_CODE', 'int'),\n",
    "  ('BRANCH_NAME', 'varchar'),\n",
    "  ('BRANCH_STREET', 'varchar'),\n",
    "  ('BRANCH_CITY', 'varchar'),\n",
    "  ('BRANCH_STATE', 'varchar'),\n",
    "  ('BRANCH_ZIP', 'int'),\n",
    "  ('BRANCH_PHONE', 'varchar'),\n",
    "  ('LAST_UPDATED', 'TIMESTAMP')]"
   ]
  },
  {
   "cell_type": "code",
   "execution_count": 23,
   "metadata": {},
   "outputs": [
    {
     "data": {
      "text/plain": [
       "[('BRANCH_CODE', 'int'),\n",
       " ('BRANCH_NAME', 'string'),\n",
       " ('BRANCH_STREET', 'string'),\n",
       " ('BRANCH_CITY', 'string'),\n",
       " ('BRANCH_STATE', 'string'),\n",
       " ('BRANCH_ZIP', 'int'),\n",
       " ('BRANCH_PHONE', 'string'),\n",
       " ('LAST_UPDATED', 'timestamp')]"
      ]
     },
     "execution_count": 23,
     "metadata": {},
     "output_type": "execute_result"
    }
   ],
   "source": [
    "from pyspark.sql.types import IntegerType, StringType, TimestampType\n",
    "df_branch_new = df_branch_new\\\n",
    ".withColumn('BRANCH_CODE', df_branch_new.BRANCH_CODE.cast(IntegerType()))\\\n",
    ".withColumn('BRANCH_NAME', df_branch_new.BRANCH_NAME.cast(StringType()))\\\n",
    ".withColumn('BRANCH_STREET', df_branch_new.BRANCH_STREET.cast(StringType()))\\\n",
    ".withColumn('BRANCH_CITY', df_branch_new.BRANCH_CITY.cast(StringType()))\\\n",
    ".withColumn('BRANCH_STATE', df_branch_new.BRANCH_STATE.cast(StringType()))\\\n",
    ".withColumn('BRANCH_ZIP', df_branch_new.BRANCH_ZIP.cast(IntegerType()))\\\n",
    ".withColumn('BRANCH_PHONE', df_branch_new.BRANCH_PHONE.cast(StringType()))\\\n",
    ".withColumn('LAST_UPDATED', df_branch_new.LAST_UPDATED.cast(TimestampType()))\n",
    "df_branch_new.dtypes "
   ]
  },
  {
   "cell_type": "markdown",
   "metadata": {},
   "source": [
    "If the source value is null load default (99999) value else Direct move\n"
   ]
  },
  {
   "cell_type": "code",
   "execution_count": 24,
   "metadata": {},
   "outputs": [
    {
     "name": "stdout",
     "output_type": "stream",
     "text": [
      "+-----------+------------+-----------------+-----------------+------------+----------+------------+-------------------+\n",
      "|BRANCH_CODE| BRANCH_NAME|    BRANCH_STREET|      BRANCH_CITY|BRANCH_STATE|BRANCH_ZIP|BRANCH_PHONE|       LAST_UPDATED|\n",
      "+-----------+------------+-----------------+-----------------+------------+----------+------------+-------------------+\n",
      "|          1|Example Bank|     Bridle Court|        Lakeville|          MN|     55044|  1234565276|2018-04-18 15:51:47|\n",
      "|          2|Example Bank|Washington Street|          Huntley|          IL|     60142|  1234618993|2018-04-18 15:51:47|\n",
      "|          3|Example Bank|    Warren Street|SouthRichmondHill|          NY|     11419|  1234985926|2018-04-18 15:51:47|\n",
      "|          4|Example Bank| Cleveland Street|       Middleburg|          FL|     32068|  1234663064|2018-04-18 15:51:47|\n",
      "|          5|Example Bank|      14th Street|    KingOfPrussia|          PA|     19406|  1234849701|2018-04-18 15:51:47|\n",
      "+-----------+------------+-----------------+-----------------+------------+----------+------------+-------------------+\n",
      "only showing top 5 rows\n",
      "\n"
     ]
    }
   ],
   "source": [
    "df_branch_new.na.fill(value=99999,subset=[\"BRANCH_ZIP\"]).show(5)"
   ]
  },
  {
   "cell_type": "code",
   "execution_count": 25,
   "metadata": {},
   "outputs": [
    {
     "name": "stdout",
     "output_type": "stream",
     "text": [
      "+----------+\n",
      "|BRANCH_ZIP|\n",
      "+----------+\n",
      "|      7501|\n",
      "|      6109|\n",
      "|      8844|\n",
      "|      2155|\n",
      "|      7866|\n",
      "+----------+\n",
      "only showing top 5 rows\n",
      "\n"
     ]
    }
   ],
   "source": [
    "from pyspark.sql.functions import length, col\n",
    "df_branch_new.select(\"BRANCH_ZIP\").where(length(col(\"BRANCH_ZIP\")) < 5).show(5)"
   ]
  },
  {
   "cell_type": "markdown",
   "metadata": {},
   "source": [
    "Change the format of phone number to (XXX)XXX-XXXX\n"
   ]
  },
  {
   "cell_type": "code",
   "execution_count": 26,
   "metadata": {},
   "outputs": [
    {
     "name": "stdout",
     "output_type": "stream",
     "text": [
      "+-----------+------------+-----------------+-----------------+------------+----------+-------------+-------------------+\n",
      "|BRANCH_CODE| BRANCH_NAME|    BRANCH_STREET|      BRANCH_CITY|BRANCH_STATE|BRANCH_ZIP| BRANCH_PHONE|       LAST_UPDATED|\n",
      "+-----------+------------+-----------------+-----------------+------------+----------+-------------+-------------------+\n",
      "|          1|Example Bank|     Bridle Court|        Lakeville|          MN|     55044|(123)456-5276|2018-04-18 15:51:47|\n",
      "|          2|Example Bank|Washington Street|          Huntley|          IL|     60142|(123)461-8993|2018-04-18 15:51:47|\n",
      "|          3|Example Bank|    Warren Street|SouthRichmondHill|          NY|     11419|(123)498-5926|2018-04-18 15:51:47|\n",
      "|          4|Example Bank| Cleveland Street|       Middleburg|          FL|     32068|(123)466-3064|2018-04-18 15:51:47|\n",
      "|          5|Example Bank|      14th Street|    KingOfPrussia|          PA|     19406|(123)484-9701|2018-04-18 15:51:47|\n",
      "+-----------+------------+-----------------+-----------------+------------+----------+-------------+-------------------+\n",
      "only showing top 5 rows\n",
      "\n"
     ]
    }
   ],
   "source": [
    "from pyspark.sql.functions import concat, lit, col, lpad\n",
    "\n",
    "df_branch_new =df_branch_new.withColumn(\"BRANCH_PHONE\", concat(lit(\"(\"),col(\"BRANCH_PHONE\").substr(1, 3), lit(\")\"),\\\n",
    "                                                        col(\"BRANCH_PHONE\").substr(4, 3), lit(\"-\"), \\\n",
    "                                                        col(\"BRANCH_PHONE\").substr(7, 4)))\n",
    "\n",
    "df_branch_new = df_branch_new.withColumn('BRANCH_ZIP', lpad(df_branch_new.BRANCH_ZIP,5, '0'))\n",
    "\n",
    "\n",
    "\n",
    "df_branch_new.show(5)"
   ]
  },
  {
   "cell_type": "code",
   "execution_count": 27,
   "metadata": {},
   "outputs": [
    {
     "name": "stdout",
     "output_type": "stream",
     "text": [
      "+----------+\n",
      "|BRANCH_ZIP|\n",
      "+----------+\n",
      "+----------+\n",
      "\n"
     ]
    }
   ],
   "source": [
    "from pyspark.sql.functions import length, col\n",
    "df_branch_new.select(\"BRANCH_ZIP\").where(length(col(\"BRANCH_ZIP\")) < 5).show()"
   ]
  },
  {
   "cell_type": "markdown",
   "metadata": {},
   "source": [
    "change the data type of the credit data to the following \n",
    "[('CREDIT_CARD_NO', 'varchar'),\n",
    " ('DAY', 'varchar'),\n",
    " ('MONTH', 'varchar'),\n",
    " ('YEAR', 'varchar'),\n",
    " ('CUST_SSN', 'int'),\n",
    " ('BRANCH_CODE', 'int'),\n",
    " ('TRANSACTION_TYPE', 'varchar'),\n",
    " ('TRANSACTION_VALUE', 'double'),\n",
    " ('TRANSACTION_ID', 'int')]"
   ]
  },
  {
   "cell_type": "code",
   "execution_count": 28,
   "metadata": {},
   "outputs": [
    {
     "data": {
      "text/plain": [
       "[('CREDIT_CARD_NO', 'string'),\n",
       " ('DAY', 'string'),\n",
       " ('MONTH', 'string'),\n",
       " ('YEAR', 'string'),\n",
       " ('CUST_SSN', 'int'),\n",
       " ('BRANCH_CODE', 'int'),\n",
       " ('TRANSACTION_TYPE', 'string'),\n",
       " ('TRANSACTION_VALUE', 'double'),\n",
       " ('TRANSACTION_ID', 'int')]"
      ]
     },
     "execution_count": 28,
     "metadata": {},
     "output_type": "execute_result"
    }
   ],
   "source": [
    "from pyspark.sql.types import IntegerType, VarcharType, DoubleType\n",
    "df_creditCard_new = df_creditCard_new\\\n",
    ".withColumn('CREDIT_CARD_NO', df_creditCard_new.CREDIT_CARD_NO.cast(VarcharType(30)))\\\n",
    ".withColumn('DAY', df_creditCard_new.DAY.cast(StringType()))\\\n",
    ".withColumn('MONTH', df_creditCard_new.MONTH.cast(StringType()))\\\n",
    ".withColumn('YEAR', df_creditCard_new.YEAR.cast(StringType()))\\\n",
    ".withColumn('CUST_SSN', df_creditCard_new.CUST_SSN.cast(IntegerType()))\\\n",
    ".withColumn('BRANCH_CODE', df_creditCard_new.BRANCH_CODE.cast(IntegerType()))\\\n",
    ".withColumn('TRANSACTION_TYPE', df_creditCard_new.TRANSACTION_TYPE.cast(StringType()))\\\n",
    ".withColumn('TRANSACTION_VALUE', df_creditCard_new.TRANSACTION_VALUE.cast(DoubleType()))\\\n",
    ".withColumn('TRANSACTION_ID', df_creditCard_new.TRANSACTION_ID.cast(IntegerType()))\\\n",
    "\n",
    "df_creditCard_new.dtypes "
   ]
  },
  {
   "cell_type": "markdown",
   "metadata": {},
   "source": [
    "Convert DAY, MONTH, and YEAR into a TIMEID (YYYYMMDD)\n"
   ]
  },
  {
   "cell_type": "code",
   "execution_count": 29,
   "metadata": {},
   "outputs": [
    {
     "name": "stdout",
     "output_type": "stream",
     "text": [
      "+----------------+---+-----+----+---------+-----------+----------------+-----------------+--------------+--------+\n",
      "|  CREDIT_CARD_NO|DAY|MONTH|YEAR| CUST_SSN|BRANCH_CODE|TRANSACTION_TYPE|TRANSACTION_VALUE|TRANSACTION_ID|  TIMEID|\n",
      "+----------------+---+-----+----+---------+-----------+----------------+-----------------+--------------+--------+\n",
      "|4210653349028689| 14|    2|2018|123459988|        114|       Education|             78.9|             1| 2018214|\n",
      "|4210653349028689| 20|    3|2018|123459988|         35|   Entertainment|            14.24|             2| 2018320|\n",
      "|4210653349028689|  8|    7|2018|123459988|        160|         Grocery|             56.7|             3|  201878|\n",
      "|4210653349028689| 19|    4|2018|123459988|        114|   Entertainment|            59.73|             4| 2018419|\n",
      "|4210653349028689| 10|   10|2018|123459988|         93|             Gas|             3.59|             5|20181010|\n",
      "+----------------+---+-----+----+---------+-----------+----------------+-----------------+--------------+--------+\n",
      "only showing top 5 rows\n",
      "\n"
     ]
    }
   ],
   "source": [
    "from pyspark.sql.functions import concat, lit, col\n",
    "\n",
    "df_creditCard_new =df_creditCard_new.withColumn(\"TIMEID\",concat(col(\"YEAR\"),\n",
    "                                                        col(\"MONTH\"), \n",
    "                                                        col(\"DAY\")))\n",
    "\n",
    "df_creditCard_new.show(5)"
   ]
  },
  {
   "cell_type": "code",
   "execution_count": 30,
   "metadata": {},
   "outputs": [
    {
     "name": "stdout",
     "output_type": "stream",
     "text": [
      "+----------------+--------+---------+-----------+----------------+-----------------+--------------+\n",
      "|  CREDIT_CARD_NO|  TIMEID| CUST_SSN|BRANCH_CODE|TRANSACTION_TYPE|TRANSACTION_VALUE|TRANSACTION_ID|\n",
      "+----------------+--------+---------+-----------+----------------+-----------------+--------------+\n",
      "|4210653349028689| 2018214|123459988|        114|       Education|             78.9|             1|\n",
      "|4210653349028689| 2018320|123459988|         35|   Entertainment|            14.24|             2|\n",
      "|4210653349028689|  201878|123459988|        160|         Grocery|             56.7|             3|\n",
      "|4210653349028689| 2018419|123459988|        114|   Entertainment|            59.73|             4|\n",
      "|4210653349028689|20181010|123459988|         93|             Gas|             3.59|             5|\n",
      "+----------------+--------+---------+-----------+----------------+-----------------+--------------+\n",
      "only showing top 5 rows\n",
      "\n"
     ]
    }
   ],
   "source": [
    "df_creditCard_new = df_creditCard_new.select(\"CREDIT_CARD_NO\",\"TIMEID\", \"CUST_SSN\", \"BRANCH_CODE\", \"TRANSACTION_TYPE\", \"TRANSACTION_VALUE\", \"TRANSACTION_ID\")\n",
    "df_creditCard_new.show(5)"
   ]
  },
  {
   "cell_type": "markdown",
   "metadata": {},
   "source": [
    "Convert the first Name to Title Case\n",
    "Convert the middle name in lower case\n",
    "Convert the Last Name in Title Case\n",
    "Concatenate Apartment no and Street name of customer's Residence with comma as a seperator (Street, Apartment)\n",
    "\n",
    "Change the format of phone number to (XXX)XXX-XXXX\n"
   ]
  },
  {
   "cell_type": "code",
   "execution_count": 31,
   "metadata": {},
   "outputs": [
    {
     "name": "stdout",
     "output_type": "stream",
     "text": [
      "+---------+----------+-----------+---------+----------------+-----------------+------+------------+----------+-------------+--------+----------+-------------------+--------------------+--------------------+\n",
      "|      SSN|FIRST_NAME|MIDDLE_NAME|LAST_NAME|  CREDIT_CARD_NO|      STREET_NAME|APT_NO|   CUST_CITY|CUST_STATE| CUST_COUNTRY|CUST_ZIP|CUST_PHONE|         CUST_EMAIL|        LAST_UPDATED| FULL_STREET_ADDRESS|\n",
      "+---------+----------+-----------+---------+----------------+-----------------+------+------------+----------+-------------+--------+----------+-------------------+--------------------+--------------------+\n",
      "|123456100|      Alec|         wm|   Hooper|4210653310061055|Main Street North|   656|     Natchez|        MS|United States|   39120|(123)781-8|AHooper@example.com|2018-04-21T12:49:...|Main Street North...|\n",
      "|123453023|      Etta|    brendan|   Holman|4210653310102868|    Redwood Drive|   829|Wethersfield|        CT|United States|   06109|(123)893-3|EHolman@example.com|2018-04-21T12:49:...|  Redwood Drive, 829|\n",
      "|123454487|    Wilber|   ezequiel|   Dunham|4210653310116272| 12th Street East|   683|     Huntley|        IL|United States|   60142|(124)301-8|WDunham@example.com|2018-04-21T12:49:...|12th Street East,...|\n",
      "|123459758|   Eugenio|      trina|    Hardy|4210653310195948|Country Club Road|   253|   NewBerlin|        WI|United States|   53151|(124)321-5| EHardy@example.com|2018-04-21T12:49:...|Country Club Road...|\n",
      "|123454431|   Wilfred|        may|    Ayers|4210653310356919|   Madison Street|   301|      ElPaso|        TX|United States|   79930|(124)207-4| WAyers@example.com|2018-04-21T12:49:...| Madison Street, 301|\n",
      "+---------+----------+-----------+---------+----------------+-----------------+------+------------+----------+-------------+--------+----------+-------------------+--------------------+--------------------+\n",
      "only showing top 5 rows\n",
      "\n"
     ]
    }
   ],
   "source": [
    "from pyspark.sql.functions import initcap, lower, concat_ws\n",
    "df_customer_new = df_customer_new\\\n",
    "    .withColumn(\"FIRST_NAME\", initcap(df_customer_new[\"FIRST_NAME\"]))\\\n",
    "    .withColumn(\"MIDDLE_NAME\", lower(df_customer_new[\"MIDDLE_NAME\"]))\\\n",
    "    .withColumn(\"LAST_NAME\", initcap(df_customer_new[\"LAST_NAME\"]))\\\n",
    "    .withColumn(\"FULL_STREET_ADDRESS\", concat(df_customer_new[\"STREET_NAME\"],lit(\", \"), df_customer_new[\"APT_NO\"]))\\\n",
    "    \n",
    "# The CUST_PHONE has 7 digit the first 3 digits are area code numbers since most of them has the same first 3 digit number\n",
    "# add 3 randum digit number at the end of the number to before changing the format to (xxx)xxx-xxxx\n",
    "\n",
    "\n",
    "df_customer_new =df_customer_new.withColumn(\"CUST_PHONE\", concat(lit(\"(\"),col(\"CUST_PHONE\").substr(1, 3), lit(\")\"),\\\n",
    "                                                        col(\"CUST_PHONE\").substr(4, 3), lit(\"-\"), \\\n",
    "                                                        col(\"CUST_PHONE\").substr(7, 4)))\n",
    "\n",
    "df_customer_new.show(5)"
   ]
  },
  {
   "cell_type": "code",
   "execution_count": 32,
   "metadata": {},
   "outputs": [
    {
     "name": "stdout",
     "output_type": "stream",
     "text": [
      "+--------+\n",
      "|CUST_ZIP|\n",
      "+--------+\n",
      "+--------+\n",
      "\n"
     ]
    }
   ],
   "source": [
    "from pyspark.sql.functions import length\n",
    "df_customer_new.select(\"CUST_ZIP\").where(length(col(\"CUST_ZIP\")) < 5).show()"
   ]
  },
  {
   "cell_type": "code",
   "execution_count": 33,
   "metadata": {},
   "outputs": [
    {
     "name": "stdout",
     "output_type": "stream",
     "text": [
      "+---------+----------+-----------+---------+----------------+--------------------+------------+----------+-------------+--------+----------+-------------------+--------------------+\n",
      "|      SSN|FIRST_NAME|MIDDLE_NAME|LAST_NAME|  CREDIT_CARD_NO| FULL_STREET_ADDRESS|   CUST_CITY|CUST_STATE| CUST_COUNTRY|CUST_ZIP|CUST_PHONE|         CUST_EMAIL|        LAST_UPDATED|\n",
      "+---------+----------+-----------+---------+----------------+--------------------+------------+----------+-------------+--------+----------+-------------------+--------------------+\n",
      "|123456100|      Alec|         wm|   Hooper|4210653310061055|Main Street North...|     Natchez|        MS|United States|   39120|(123)781-8|AHooper@example.com|2018-04-21T12:49:...|\n",
      "|123453023|      Etta|    brendan|   Holman|4210653310102868|  Redwood Drive, 829|Wethersfield|        CT|United States|   06109|(123)893-3|EHolman@example.com|2018-04-21T12:49:...|\n",
      "|123454487|    Wilber|   ezequiel|   Dunham|4210653310116272|12th Street East,...|     Huntley|        IL|United States|   60142|(124)301-8|WDunham@example.com|2018-04-21T12:49:...|\n",
      "|123459758|   Eugenio|      trina|    Hardy|4210653310195948|Country Club Road...|   NewBerlin|        WI|United States|   53151|(124)321-5| EHardy@example.com|2018-04-21T12:49:...|\n",
      "|123454431|   Wilfred|        may|    Ayers|4210653310356919| Madison Street, 301|      ElPaso|        TX|United States|   79930|(124)207-4| WAyers@example.com|2018-04-21T12:49:...|\n",
      "+---------+----------+-----------+---------+----------------+--------------------+------------+----------+-------------+--------+----------+-------------------+--------------------+\n",
      "only showing top 5 rows\n",
      "\n"
     ]
    }
   ],
   "source": [
    "df_customer_new = df_customer_new.withColumn(\"FULL_STREET_ADDRESS\", df_customer_new.FULL_STREET_ADDRESS.cast(VarcharType(50)))\n",
    "df_customer_new = df_customer_new.select(\"SSN\", \"FIRST_NAME\", \"MIDDLE_NAME\", \"LAST_NAME\", \"CREDIT_CARD_NO\", \"FULL_STREET_ADDRESS\", \"CUST_CITY\",\n",
    "\"CUST_STATE\", \"CUST_COUNTRY\", \"CUST_ZIP\", \"CUST_PHONE\", \"CUST_EMAIL\", \"LAST_UPDATED\")\n",
    "df_customer_new.show(5)"
   ]
  },
  {
   "cell_type": "code",
   "execution_count": 19,
   "metadata": {},
   "outputs": [
    {
     "data": {
      "text/plain": [
       "[('SSN', 'bigint'),\n",
       " ('FIRST_NAME', 'string'),\n",
       " ('MIDDLE_NAME', 'string'),\n",
       " ('LAST_NAME', 'string'),\n",
       " ('CREDIT_CARD_NO', 'string'),\n",
       " ('FULL_STREET_ADDRESS', 'string'),\n",
       " ('CUST_CITY', 'string'),\n",
       " ('CUST_STATE', 'string'),\n",
       " ('CUST_COUNTRY', 'string'),\n",
       " ('CUST_ZIP', 'string'),\n",
       " ('CUST_PHONE', 'string'),\n",
       " ('CUST_EMAIL', 'string'),\n",
       " ('LAST_UPDATED', 'string')]"
      ]
     },
     "execution_count": 19,
     "metadata": {},
     "output_type": "execute_result"
    }
   ],
   "source": [
    "df_customer_new.dtypes"
   ]
  },
  {
   "cell_type": "markdown",
   "metadata": {},
   "source": [
    "Req-1.2  Data loading into Database\n",
    " Once PySpark reads data from JSON files, and then utilizes Python, PySpark, and Python modules to load data into RDBMS(SQL), perform the following:\n",
    "\n",
    "Create a Database in SQL(MySQL), named “creditcard_capstone.”\n",
    "Create a Python and Pyspark Program to load/write the “Credit Card System Data” into RDBMS(creditcard_capstone).\n",
    "Tables should be created by the following names in RDBMS:\n",
    "CDW_SAPP_BRANCH\n",
    "CDW_SAPP_CREDIT_CARD\n",
    "CDW_SAPP_CUSTOMER +- \n",
    "Create a Database in SQL(MySQL), named “creditcard_capstone.”\n"
   ]
  },
  {
   "cell_type": "markdown",
   "metadata": {},
   "source": [
    "A Database is created on MySQL workbench \n",
    "syntax for creating database “creditcard_capstone.\" \n",
    "\n",
    "CREATE DATABASE `creditcard_capstone` /*!40100 DEFAULT CHARACTER SET latin1 */ /*!80016 DEFAULT ENCRYPTION='N' */;"
   ]
  },
  {
   "cell_type": "code",
   "execution_count": 20,
   "metadata": {},
   "outputs": [],
   "source": [
    "# creating a table called 'CDW_SAPP_BRANCH' into creditcard_capstone database from SparkSQL Dataframe\n",
    "# by connecting mysql workbench\n",
    "import mysqlSecrets\n",
    "df_branch_new.write.format(\"jdbc\") \\\n",
    "  .mode(\"append\") \\\n",
    "  .option(\"url\", \"jdbc:mysql://localhost:3306/creditcard_capstone\") \\\n",
    "  .option(\"dbtable\", \"creditcard_capstone.CDW_SAPP_BRANCH\") \\\n",
    "  .option(\"user\", mysqlSecrets.mysql_username) \\\n",
    "  .option(\"password\", mysqlSecrets.mysql_password) \\\n",
    "  .save()"
   ]
  },
  {
   "cell_type": "code",
   "execution_count": 21,
   "metadata": {},
   "outputs": [],
   "source": [
    "# creating a table called 'CDW_SAPP_CREDIT_CARD' into creditcard_capstone database from SparkSQL Dataframe by connecting mysql workbench\n",
    "df_creditCard_new.write.format(\"jdbc\") \\\n",
    "  .mode(\"append\") \\\n",
    "  .option(\"url\", \"jdbc:mysql://localhost:3306/creditcard_capstone\") \\\n",
    "  .option(\"dbtable\", \"creditcard_capstone.CDW_SAPP_CREDIT_CARD\") \\\n",
    "  .option(\"user\", mysqlSecrets.mysql_username) \\\n",
    "  .option(\"password\", mysqlSecrets.mysql_password) \\\n",
    "  .save()"
   ]
  },
  {
   "cell_type": "code",
   "execution_count": 22,
   "metadata": {},
   "outputs": [],
   "source": [
    "# creating a table called 'CDW_SAPP_BRANCH' into creditcard_capstone database from SparkSQL Dataframe by connecting mysql workbench\n",
    "df_customer_new.write.format(\"jdbc\") \\\n",
    "  .mode(\"append\") \\\n",
    "  .option(\"url\", \"jdbc:mysql://localhost:3306/creditcard_capstone\") \\\n",
    "  .option(\"dbtable\", \"creditcard_capstone.CDW_SAPP_CUSTOMER\") \\\n",
    "  .option(\"user\", mysqlSecrets.mysql_username) \\\n",
    "  .option(\"password\", mysqlSecrets.mysql_password) \\\n",
    "  .save()"
   ]
  },
  {
   "cell_type": "code",
   "execution_count": 23,
   "metadata": {},
   "outputs": [
    {
     "name": "stdout",
     "output_type": "stream",
     "text": [
      "+-----------+------------+-----------------+-----------------+------------+----------+-------------+-------------------+\n",
      "|BRANCH_CODE| BRANCH_NAME|    BRANCH_STREET|      BRANCH_CITY|BRANCH_STATE|BRANCH_ZIP| BRANCH_PHONE|       LAST_UPDATED|\n",
      "+-----------+------------+-----------------+-----------------+------------+----------+-------------+-------------------+\n",
      "|          1|Example Bank|     Bridle Court|        Lakeville|          MN|     55044|(123)456-5276|2018-04-18 15:51:47|\n",
      "|          2|Example Bank|Washington Street|          Huntley|          IL|     60142|(123)461-8993|2018-04-18 15:51:47|\n",
      "|          3|Example Bank|    Warren Street|SouthRichmondHill|          NY|     11419|(123)498-5926|2018-04-18 15:51:47|\n",
      "|          4|Example Bank| Cleveland Street|       Middleburg|          FL|     32068|(123)466-3064|2018-04-18 15:51:47|\n",
      "|          5|Example Bank|      14th Street|    KingOfPrussia|          PA|     19406|(123)484-9701|2018-04-18 15:51:47|\n",
      "+-----------+------------+-----------------+-----------------+------------+----------+-------------+-------------------+\n",
      "only showing top 5 rows\n",
      "\n"
     ]
    }
   ],
   "source": [
    "df_branch_new=spark.read.format(\"jdbc\").options(driver=\"com.mysql.cj.jdbc.Driver\",\\\n",
    " user = mysqlSecrets.mysql_username,\\\n",
    " password = mysqlSecrets.mysql_password,\\\n",
    " url=\"jdbc:mysql://localhost:3306/creditcard_capstone\",\\\n",
    " dbtable=\"creditcard_capstone.CDW_SAPP_BRANCH\").load()\n",
    "df_branch_new.show(5)"
   ]
  },
  {
   "cell_type": "code",
   "execution_count": 24,
   "metadata": {},
   "outputs": [
    {
     "name": "stdout",
     "output_type": "stream",
     "text": [
      "+----------------+-------+---------+-----------+----------------+-----------------+--------------+\n",
      "|  CREDIT_CARD_NO| TIMEID| CUST_SSN|BRANCH_CODE|TRANSACTION_TYPE|TRANSACTION_VALUE|TRANSACTION_ID|\n",
      "+----------------+-------+---------+-----------+----------------+-----------------+--------------+\n",
      "|4210653312478046|2018813|123455692|        156|         Grocery|            91.08|         22562|\n",
      "|4210653349028689|2018214|123459988|        114|       Education|             78.9|             1|\n",
      "|4210653342242023|2018315|123451310|        180|           Bills|            77.79|         45069|\n",
      "|4210653312478046|2018626|123455692|        114|           Bills|             22.2|         22563|\n",
      "|4210653312478046|2018320|123455692|         47|         Grocery|            77.54|         22564|\n",
      "+----------------+-------+---------+-----------+----------------+-----------------+--------------+\n",
      "only showing top 5 rows\n",
      "\n"
     ]
    }
   ],
   "source": [
    "df_creditCard_new=spark.read.format(\"jdbc\").options(driver=\"com.mysql.cj.jdbc.Driver\",\\\n",
    " user = mysqlSecrets.mysql_username,\\\n",
    " password = mysqlSecrets.mysql_password,\\\n",
    " url=\"jdbc:mysql://localhost:3306/creditcard_capstone\",\\\n",
    " dbtable=\"creditcard_capstone.CDW_SAPP_CREDIT_CARD\").load()\n",
    "df_creditCard_new.show(5)"
   ]
  },
  {
   "cell_type": "code",
   "execution_count": 25,
   "metadata": {},
   "outputs": [
    {
     "name": "stdout",
     "output_type": "stream",
     "text": [
      "+---------+----------+-----------+---------+----------------+--------------------+------------+----------+-------------+--------+----------+-------------------+--------------------+\n",
      "|      SSN|FIRST_NAME|MIDDLE_NAME|LAST_NAME|  CREDIT_CARD_NO| FULL_STREET_ADDRESS|   CUST_CITY|CUST_STATE| CUST_COUNTRY|CUST_ZIP|CUST_PHONE|         CUST_EMAIL|        LAST_UPDATED|\n",
      "+---------+----------+-----------+---------+----------------+--------------------+------------+----------+-------------+--------+----------+-------------------+--------------------+\n",
      "|123456100|      Alec|         wm|   Hooper|4210653310061055|Main Street North...|     Natchez|        MS|United States|   39120|(123)781-8|AHooper@example.com|2018-04-21T12:49:...|\n",
      "|123453023|      Etta|    brendan|   Holman|4210653310102868|  Redwood Drive, 829|Wethersfield|        CT|United States|   06109|(123)893-3|EHolman@example.com|2018-04-21T12:49:...|\n",
      "|123454487|    Wilber|   ezequiel|   Dunham|4210653310116272|12th Street East,...|     Huntley|        IL|United States|   60142|(124)301-8|WDunham@example.com|2018-04-21T12:49:...|\n",
      "|123459758|   Eugenio|      trina|    Hardy|4210653310195948|Country Club Road...|   NewBerlin|        WI|United States|   53151|(124)321-5| EHardy@example.com|2018-04-21T12:49:...|\n",
      "|123454431|   Wilfred|        may|    Ayers|4210653310356919| Madison Street, 301|      ElPaso|        TX|United States|   79930|(124)207-4| WAyers@example.com|2018-04-21T12:49:...|\n",
      "+---------+----------+-----------+---------+----------------+--------------------+------------+----------+-------------+--------+----------+-------------------+--------------------+\n",
      "only showing top 5 rows\n",
      "\n"
     ]
    }
   ],
   "source": [
    "df_customer_new=spark.read.format(\"jdbc\").options(driver=\"com.mysql.cj.jdbc.Driver\",\\\n",
    " user = mysqlSecrets.mysql_username,\\\n",
    " password = mysqlSecrets.mysql_password,\\\n",
    " url=\"jdbc:mysql://localhost:3306/creditcard_capstone\",\\\n",
    " dbtable=\"creditcard_capstone.CDW_SAPP_CUSTOMER\").load()\n",
    "df_customer_new.show(5)"
   ]
  },
  {
   "cell_type": "markdown",
   "metadata": {},
   "source": [
    "2. Functional Requirements - Application Front-End\n",
    "Once data is loaded into the database, we need a front-end (console) to see/display data. For that, create a console-based Python program to satisfy System Requirements 2 (2.1 and 2.2). "
   ]
  },
  {
   "cell_type": "markdown",
   "metadata": {},
   "source": [
    " 2.1 Transaction Details Module\n",
    " \n",
    "1)  Used to display the transactions made by customers living in a given zip code for a given month and year. Order by day in descending order."
   ]
  },
  {
   "cell_type": "code",
   "execution_count": 26,
   "metadata": {},
   "outputs": [
    {
     "name": "stdout",
     "output_type": "stream",
     "text": [
      "+----------------+-------+---------+-----------+----------------+-----------------+--------------+\n",
      "|  CREDIT_CARD_NO| TIMEID| CUST_SSN|BRANCH_CODE|TRANSACTION_TYPE|TRANSACTION_VALUE|TRANSACTION_ID|\n",
      "+----------------+-------+---------+-----------+----------------+-----------------+--------------+\n",
      "|4210653312478046|2018813|123455692|        156|         Grocery|            91.08|         22562|\n",
      "|4210653349028689|2018214|123459988|        114|       Education|             78.9|             1|\n",
      "|4210653342242023|2018315|123451310|        180|           Bills|            77.79|         45069|\n",
      "|4210653312478046|2018626|123455692|        114|           Bills|             22.2|         22563|\n",
      "|4210653312478046|2018320|123455692|         47|         Grocery|            77.54|         22564|\n",
      "+----------------+-------+---------+-----------+----------------+-----------------+--------------+\n",
      "only showing top 5 rows\n",
      "\n",
      "+----------------+-------+---------+-----------+----------------+-----------------+--------------+---+-----+----+\n",
      "|  CREDIT_CARD_NO| TIMEID| CUST_SSN|BRANCH_CODE|TRANSACTION_TYPE|TRANSACTION_VALUE|TRANSACTION_ID|Day|Month|Year|\n",
      "+----------------+-------+---------+-----------+----------------+-----------------+--------------+---+-----+----+\n",
      "|4210653312478046|2018813|123455692|        156|         Grocery|            91.08|         22562| 13|    1|2018|\n",
      "|4210653349028689|2018214|123459988|        114|       Education|             78.9|             1| 14|    1|2018|\n",
      "|4210653342242023|2018315|123451310|        180|           Bills|            77.79|         45069| 15|    1|2018|\n",
      "|4210653312478046|2018626|123455692|        114|           Bills|             22.2|         22563| 26|    1|2018|\n",
      "|4210653312478046|2018320|123455692|         47|         Grocery|            77.54|         22564| 20|    1|2018|\n",
      "+----------------+-------+---------+-----------+----------------+-----------------+--------------+---+-----+----+\n",
      "only showing top 5 rows\n",
      "\n"
     ]
    }
   ],
   "source": [
    "from pyspark.sql.functions import year, month, dayofweek\n",
    "df_cus_tr = df_creditCard_new\n",
    "\n",
    "df_cus_tr = df_cus_tr.withColumn('Day', col('TIMEID')[6:8])\n",
    "df_cus_tr = df_cus_tr.withColumn('Month',month(col('TIMEID')))\n",
    "df_cus_tr = df_cus_tr.withColumn('Year', col('TIMEID')[0:4])\n",
    "\n",
    "df_creditCard_new.show(5)\n",
    "df_cus_tr.show(5)\n"
   ]
  },
  {
   "cell_type": "code",
   "execution_count": 27,
   "metadata": {},
   "outputs": [],
   "source": [
    "#create temporary view for both transaction and customer data\n",
    "df_cus_tr.createOrReplaceTempView(\"cus_transaction\")\n",
    "df_customer_new.createOrReplaceTempView(\"customer_detail\")"
   ]
  },
  {
   "cell_type": "code",
   "execution_count": 28,
   "metadata": {},
   "outputs": [
    {
     "name": "stdout",
     "output_type": "stream",
     "text": [
      "+----------+-----------+---------+----------------+--------+-----------+----------------+-----------------+--------------+------+\n",
      "|FIRST_NAME|MIDDLE_NAME|LAST_NAME|  CREDIT_CARD_NO|CUST_ZIP|BRANCH_CODE|TRANSACTION_TYPE|TRANSACTION_VALUE|TRANSACTION_ID|TIMEID|\n",
      "+----------+-----------+---------+----------------+--------+-----------+----------------+-----------------+--------------+------+\n",
      "|     Titus|     karina|  Conklin|4210653375686315|   07666|         37|             Gas|             45.3|         43766|201879|\n",
      "|    Lillie|      kathi|  Barrett|4210653369171115|   07666|        166|       Education|             86.8|         42626|201839|\n",
      "|   Deandre|        liz|   Keller|4210653348611322|   07666|         24|   Entertainment|            85.99|         34118|201819|\n",
      "|    Lillie|      kathi|  Barrett|4210653369171115|   07666|        158|       Education|            79.66|         42661|201839|\n",
      "|     Titus|     karina|  Conklin|4210653375686315|   07666|         37|             Gas|             45.3|         43766|201879|\n",
      "|    Lillie|      kathi|  Barrett|4210653369171115|   07666|         73|       Education|            90.31|         42652|201889|\n",
      "|   Deandre|        liz|   Keller|4210653348611322|   07666|         58|           Bills|            81.13|         34099|201839|\n",
      "|    Lillie|      kathi|  Barrett|4210653369171115|   07666|        166|       Education|             86.8|         42626|201839|\n",
      "|     Titus|     karina|  Conklin|4210653375686315|   07666|         37|             Gas|             45.3|         43766|201879|\n",
      "|    Lillie|      kathi|  Barrett|4210653369171115|   07666|        158|       Education|            79.66|         42661|201839|\n",
      "|   Deandre|        liz|   Keller|4210653348611322|   07666|         26|            Test|           100.63|         34089|201869|\n",
      "|    Lillie|      kathi|  Barrett|4210653369171115|   07666|        158|       Education|            79.66|         42661|201839|\n",
      "|     Titus|     karina|  Conklin|4210653375686315|   07666|         37|             Gas|             45.3|         43766|201879|\n",
      "|    Lillie|      kathi|  Barrett|4210653369171115|   07666|          9|             Gas|            80.64|         42662|201889|\n",
      "|   Deandre|        liz|   Keller|4210653348611322|   07666|         26|            Test|           100.63|         34089|201869|\n",
      "|    Lillie|      kathi|  Barrett|4210653369171115|   07666|        114|         Grocery|            41.93|         42619|201899|\n",
      "|     Titus|     karina|  Conklin|4210653375686315|   07666|         37|             Gas|             45.3|         43766|201879|\n",
      "|    Lillie|      kathi|  Barrett|4210653369171115|   07666|         40|         Grocery|            62.05|         42663|201889|\n",
      "|   Deandre|        liz|   Keller|4210653348611322|   07666|         58|           Bills|            81.13|         34099|201839|\n",
      "|    Lillie|      kathi|  Barrett|4210653369171115|   07666|        114|         Grocery|            41.93|         42619|201899|\n",
      "+----------+-----------+---------+----------------+--------+-----------+----------------+-----------------+--------------+------+\n",
      "only showing top 20 rows\n",
      "\n"
     ]
    }
   ],
   "source": [
    "\n",
    "\n",
    "def transaction_inzip():\n",
    "    #enter customer zip Code\n",
    "    cust_zip_code = input(\"Enter zip code: \")\n",
    "\n",
    "    #enter customer LAST_UPDATED month\n",
    "    Cust_tra_month = input(\"Enter transaction month: \")\n",
    "\n",
    "    #enter customer LAST_UPDATED year\n",
    "    cust_tra_year = input(\"Enter year: \")\n",
    "    spark.sql(f\"select  cd.FIRST_NAME, cd.MIDDLE_NAME, cd.LAST_NAME, ct.CREDIT_CARD_NO, cd.CUST_ZIP, ct.BRANCH_CODE, ct.TRANSACTION_TYPE, ct.TRANSACTION_VALUE, ct.TRANSACTION_ID, ct.TIMEID  \n",
    "              from customer_detail cd inner join cus_transaction ct on  cd.CREDIT_CARD_NO = ct.CREDIT_CARD_NO where cd.CUST_ZIP = {cust_zip_code} AND ct.Month = {Cust_tra_month} AND ct.Year = {cust_tra_year} order by ct.Day DESC\").show()# correct \n",
    "transaction_inzip()"
   ]
  },
  {
   "cell_type": "markdown",
   "metadata": {},
   "source": [
    "2)   Used to display the number and total values of transactions for a given type.\n"
   ]
  },
  {
   "cell_type": "code",
   "execution_count": 39,
   "metadata": {},
   "outputs": [
    {
     "name": "stdout",
     "output_type": "stream",
     "text": [
      "+---------------------+----------------------+\n",
      "|count(TRANSACTION_ID)|sum(TRANSACTION_VALUE)|\n",
      "+---------------------+----------------------+\n",
      "|                13722|      702810.559999999|\n",
      "+---------------------+----------------------+\n",
      "\n"
     ]
    }
   ],
   "source": [
    "def transaction_type():\n",
    "\n",
    "    transaction_type = input(\"enter customer transaction type\")\n",
    "\n",
    "    spark.sql(f\"select count(TRANSACTION_ID), sum(TRANSACTION_VALUE) FROM cus_transaction WHERE TRANSACTION_TYPE='{transaction_type}'\").show()\n",
    "transaction_type()"
   ]
  },
  {
   "cell_type": "markdown",
   "metadata": {},
   "source": [
    "3) Used to display the total number and total values of transactions for branches in a given state."
   ]
  },
  {
   "cell_type": "code",
   "execution_count": 41,
   "metadata": {},
   "outputs": [
    {
     "name": "stdout",
     "output_type": "stream",
     "text": [
      "+---------------------+----------------------+\n",
      "|count(TRANSACTION_ID)|sum(TRANSACTION_VALUE)|\n",
      "+---------------------+----------------------+\n",
      "|                26700|    1364707.5600000038|\n",
      "+---------------------+----------------------+\n",
      "\n"
     ]
    }
   ],
   "source": [
    "\n",
    "def transaction_byState():\n",
    "#enter state of branches\n",
    "    state = input(\"enter state of a branchs\")\n",
    "    df_creditCard_new.createOrReplaceTempView(\"cus_tran_card\")\n",
    "    df_branch_new.createOrReplaceTempView(\"cus_branch\")\n",
    "    spark.sql(f\"select count(ct.TRANSACTION_ID), sum(ct.TRANSACTION_VALUE) from cus_tran_card ct inner join cus_branch b on ct.BRANCH_CODE = b.BRANCH_CODE where b.BRANCH_STATE = '{state}'\").show()\n",
    "transaction_byState()\n",
    "\n"
   ]
  },
  {
   "cell_type": "markdown",
   "metadata": {},
   "source": [
    "2.2 Customer Details Module\n",
    "\n",
    "1) Used to check the existing account details of a customer."
   ]
  },
  {
   "cell_type": "code",
   "execution_count": 37,
   "metadata": {},
   "outputs": [
    {
     "name": "stdout",
     "output_type": "stream",
     "text": [
      "+----------------+----------+-----------+---------+----------------+--------------------+-----------+----------+-------------+--------+-------------+-------------------+--------------------+\n",
      "|LAST_4_DIGIT_SSN|FIRST_NAME|MIDDLE_NAME|LAST_NAME|  CREDIT_CARD_NO| FULL_STREET_ADDRESS|  CUST_CITY|CUST_STATE| CUST_COUNTRY|CUST_ZIP|   CUST_PHONE|         CUST_EMAIL|        LAST_UPDATED|\n",
      "+----------------+----------+-----------+---------+----------------+--------------------+-----------+----------+-------------+--------+-------------+-------------------+--------------------+\n",
      "|            3242|      Elsa|   isabelle|   Truong|4210653310844617|8th Street West, 924|Summerville|        SC|United States|   29483|   (123)622-8|ETruong@example.com|2018-04-21T12:49:...|\n",
      "|            3242|      Elsa|   isabelle|   Truong|4210653310844617|8th Street West, 924|Summerville|        SC|United States|   29483|((12)3)6-22-8|ETruong@example.com|2018-04-21T12:49:...|\n",
      "+----------------+----------+-----------+---------+----------------+--------------------+-----------+----------+-------------+--------+-------------+-------------------+--------------------+\n",
      "\n"
     ]
    }
   ],
   "source": [
    "#Get user first name, last name and email from the user input\n",
    "#for the customer  security the user input should be first name, last name and customer email\n",
    "def cust_detail():\n",
    "    first_name = input(\"Enter your first name: \")\n",
    "    last_name = input(\"Enter your last name: \")\n",
    "    email = input(\"Enter your email: \")\n",
    "    customer_info = spark.sql(f\"select substring(SSN, 6, 8) as LAST_4_DIGIT_SSN, FIRST_NAME, MIDDLE_NAME, LAST_NAME, CREDIT_CARD_NO, FULL_STREET_ADDRESS, CUST_CITY, CUST_STATE, CUST_COUNTRY, CUST_ZIP, CUST_PHONE, CUST_EMAIL, LAST_UPDATED from customer_detail where '{first_name}' = FIRST_NAME AND '{last_name}' = LAST_NAME AND '{email}' = CUST_EMAIL\")\n",
    "    customer_info.show()\n",
    "cust_detail()\n",
    "\n",
    "#To test this use first name = \"Elsa\",  lastname-  \"Truong\" and email  -ETruong@example.com "
   ]
  },
  {
   "cell_type": "markdown",
   "metadata": {},
   "source": [
    "2) Used to modify the existing account details of a customer."
   ]
  },
  {
   "cell_type": "code",
   "execution_count": 53,
   "metadata": {},
   "outputs": [
    {
     "name": "stdout",
     "output_type": "stream",
     "text": [
      "[(123453242, 'Delina', 'isabelle', 'Truong', '4210653310844617', '8th Street West, 924', 'Summerville', 'SC', 'United States', '29483', '(123)622-8', 'ETruong@example.com', '2018-04-21T12:49:02.000-04:00')]\n"
     ]
    }
   ],
   "source": [
    "import mysqlSecrets\n",
    "import mysql.connector as mydbconnection \n",
    "from mysql.connector import Error \n",
    "\n",
    "def connect():\n",
    "    \n",
    "    conn = mydbconnection.connect(\n",
    "                    host = 'localhost',\n",
    "                    database='creditcard_capstone',\n",
    "                    user = mysqlSecrets.mysql_username,\n",
    "                    password = mysqlSecrets.mysql_password\n",
    "        )\n",
    "                     \n",
    "    mycursor = conn.cursor()   \n",
    "    \n",
    "    \n",
    "    #To test this use first name = \"Elsa\",  lastname-  \"Truong\" and email  -3242\n",
    "    #To test this use col_to_modify - FIRST_NAME = Delina \n",
    "    sql = f\"UPDATE CDW_SAPP_CUSTOMER SET {col_to_modify} = '{updated_value}' WHERE FIRST_NAME = '{first_name}' AND LAST_NAME = '{last_name}' AND substring(SSN, 6, 8) = '{last_4_digit_SSN}'\"\n",
    "    try:\n",
    "        mycursor.execute(sql)\n",
    "    \n",
    "\n",
    "    except:\n",
    "        conn.rollback()\n",
    "    sql = f\"select * from CDW_SAPP_CUSTOMER where substring(SSN, 6, 8) = '{last_4_digit_SSN}'\"\n",
    "\n",
    "    mycursor.execute(sql)\n",
    "\n",
    "\n",
    "    print(mycursor.fetchall())\n",
    "    mycursor.close()\n",
    "    conn.close()\n",
    "\n",
    "if __name__ == '__main__':\n",
    "\n",
    "    #Get user first name, last name and email from the user input\n",
    "    #for the customer  security the user input should be first name, last name and customer email\n",
    "    first_name = input(\"Enter your first name: \")\n",
    "    last_name = input(\"Enter your last name: \")\n",
    "    last_4_digit_SSN = input(\"Enter last 4 digit number of your Social security number: \")\n",
    "    col_to_modify = input(\"enter the section to be modified:\")\n",
    "    updated_value = input (\"enter the new value that you want to update: \")\n",
    "    connect()\n"
   ]
  },
  {
   "cell_type": "markdown",
   "metadata": {},
   "source": [
    "3) Used to generate a monthly bill for a credit card number for a given month and year.\n"
   ]
  },
  {
   "cell_type": "code",
   "execution_count": 43,
   "metadata": {},
   "outputs": [
    {
     "name": "stdout",
     "output_type": "stream",
     "text": [
      "+----------+---------+----------------+-----------+----------------+-----------------+--------------+\n",
      "|FIRST_NAME|LAST_NAME|  CREDIT_CARD_NO|BRANCH_CODE|TRANSACTION_TYPE|TRANSACTION_VALUE|TRANSACTION_ID|\n",
      "+----------+---------+----------------+-----------+----------------+-----------------+--------------+\n",
      "|   Deandre|   Keller|4210653348611322|          1|           Bills|            43.75|         34065|\n",
      "|   Deandre|   Keller|4210653348611322|        188|      Healthcare|            68.83|         34066|\n",
      "|   Deandre|   Keller|4210653348611322|         69|             Gas|             51.7|         34067|\n",
      "|   Deandre|   Keller|4210653348611322|         51|       Education|            90.19|         34069|\n",
      "|   Deandre|   Keller|4210653348611322|          2|            Test|            25.93|         34070|\n",
      "|   Deandre|   Keller|4210653348611322|         76|         Grocery|            63.88|         34071|\n",
      "|   Deandre|   Keller|4210653348611322|        111|      Healthcare|            87.91|         34072|\n",
      "|   Deandre|   Keller|4210653348611322|        104|         Grocery|            59.31|         34073|\n",
      "|   Deandre|   Keller|4210653348611322|         81|             Gas|             2.84|         34074|\n",
      "|   Deandre|   Keller|4210653348611322|        170|             Gas|             1.83|         34075|\n",
      "|   Deandre|   Keller|4210653348611322|         57|             Gas|            46.53|         34076|\n",
      "|   Deandre|   Keller|4210653348611322|         10|             Gas|            30.96|         34077|\n",
      "|   Deandre|   Keller|4210653348611322|        100|            Test|             58.1|         34079|\n",
      "|   Deandre|   Keller|4210653348611322|         57|             Gas|            23.79|         34080|\n",
      "|   Deandre|   Keller|4210653348611322|        104|           Bills|            11.09|         34081|\n",
      "|   Deandre|   Keller|4210653348611322|        170|   Entertainment|            67.09|         34082|\n",
      "|   Deandre|   Keller|4210653348611322|         21|   Entertainment|             1.32|         34083|\n",
      "|   Deandre|   Keller|4210653348611322|        135|            Test|            30.51|         34085|\n",
      "|   Deandre|   Keller|4210653348611322|        192|       Education|             25.5|         34087|\n",
      "|   Deandre|   Keller|4210653348611322|         83|       Education|            45.59|         34088|\n",
      "+----------+---------+----------------+-----------+----------------+-----------------+--------------+\n",
      "only showing top 20 rows\n",
      "\n"
     ]
    }
   ],
   "source": [
    "\n",
    "df_cus_tr.createOrReplaceTempView(\"cus_transaction\")\n",
    "#spark.sql(\"select * from cus_transaction\").show()\n",
    "df_customer_new.createOrReplaceTempView(\"customer_detail\")\n",
    "def monthly_bill():\n",
    "    creditCardNumber = input(\"Enter your credit card number: \")\n",
    "    month = input(\"Enter month for the bill you want: \")\n",
    "    year = input(\"Enter year for the bill you want: \")\n",
    "    #Enter creditCardNumber - 4210653348611322, month - 1, year - 2018\n",
    "\n",
    "    spark.sql(f\"select  FIRST_NAME, LAST_NAME, ct. CREDIT_CARD_NO, BRANCH_CODE, TRANSACTION_TYPE, TRANSACTION_VALUE, TRANSACTION_ID from customer_detail cd left join cus_transaction ct ON ct. CREDIT_CARD_NO = cd.CREDIT_CARD_NO  where ct.CREDIT_CARD_NO = '{creditCardNumber}'AND ct.Month = '{month}' AND ct.Year = '{year}'\").show()\n",
    "monthly_bill()"
   ]
  },
  {
   "cell_type": "markdown",
   "metadata": {},
   "source": [
    "4) Used to display the transactions made by a customer between two dates. Order by year, month, and day in descending order"
   ]
  },
  {
   "cell_type": "code",
   "execution_count": 61,
   "metadata": {},
   "outputs": [
    {
     "name": "stdout",
     "output_type": "stream",
     "text": [
      "+----------+---------+--------------------+----------------+-----------+----------------+-----------------+--------------+------+\n",
      "|FIRST_NAME|LAST_NAME|          CUST_EMAIL|  CREDIT_CARD_NO|BRANCH_CODE|TRANSACTION_TYPE|TRANSACTION_VALUE|TRANSACTION_ID|TIMEID|\n",
      "+----------+---------+--------------------+----------------+-----------+----------------+-----------------+--------------+------+\n",
      "|    Lillie|  Barrett|LBarrett@example.com|4210653369171115|        114|         Grocery|            41.93|         42619|201899|\n",
      "|    Lillie|  Barrett|LBarrett@example.com|4210653369171115|        114|         Grocery|            41.93|         42619|201899|\n",
      "|    Lillie|  Barrett|LBarrett@example.com|4210653369171115|        114|         Grocery|            41.93|         42619|201899|\n",
      "|    Lillie|  Barrett|LBarrett@example.com|4210653369171115|        114|         Grocery|            41.93|         42619|201899|\n",
      "|    Lillie|  Barrett|LBarrett@example.com|4210653369171115|        114|         Grocery|            41.93|         42619|201899|\n",
      "|    Lillie|  Barrett|LBarrett@example.com|4210653369171115|        114|         Grocery|            41.93|         42619|201899|\n",
      "|    Lillie|  Barrett|LBarrett@example.com|4210653369171115|        114|         Grocery|            41.93|         42619|201899|\n",
      "|    Lillie|  Barrett|LBarrett@example.com|4210653369171115|        114|         Grocery|            41.93|         42619|201899|\n",
      "|    Lillie|  Barrett|LBarrett@example.com|4210653369171115|        114|         Grocery|            41.93|         42619|201899|\n",
      "|    Lillie|  Barrett|LBarrett@example.com|4210653369171115|        114|         Grocery|            41.93|         42619|201899|\n",
      "|    Lillie|  Barrett|LBarrett@example.com|4210653369171115|        114|         Grocery|            41.93|         42619|201899|\n",
      "|    Lillie|  Barrett|LBarrett@example.com|4210653369171115|        114|         Grocery|            41.93|         42619|201899|\n",
      "|    Lillie|  Barrett|LBarrett@example.com|4210653369171115|        114|         Grocery|            41.93|         42619|201899|\n",
      "|    Lillie|  Barrett|LBarrett@example.com|4210653369171115|        114|         Grocery|            41.93|         42619|201899|\n",
      "|    Lillie|  Barrett|LBarrett@example.com|4210653369171115|        114|         Grocery|            41.93|         42619|201899|\n",
      "|    Lillie|  Barrett|LBarrett@example.com|4210653369171115|        114|         Grocery|            41.93|         42619|201899|\n",
      "|    Lillie|  Barrett|LBarrett@example.com|4210653369171115|        114|         Grocery|            41.93|         42619|201899|\n",
      "|    Lillie|  Barrett|LBarrett@example.com|4210653369171115|        114|         Grocery|            41.93|         42619|201899|\n",
      "|    Lillie|  Barrett|LBarrett@example.com|4210653369171115|        114|         Grocery|            41.93|         42619|201899|\n",
      "|    Lillie|  Barrett|LBarrett@example.com|4210653369171115|        114|         Grocery|            41.93|         42619|201899|\n",
      "+----------+---------+--------------------+----------------+-----------+----------------+-----------------+--------------+------+\n",
      "only showing top 20 rows\n",
      "\n"
     ]
    }
   ],
   "source": [
    "def transaction_twoDates():\n",
    "    df_cus_tr.createOrReplaceTempView(\"cus_transaction\")\n",
    "    #spark.sql(\"select * from cus_transaction\").show()\n",
    "    df_customer_new.createOrReplaceTempView(\"customer_detail\")\n",
    "\n",
    "    #To test this use first name = \"Lillie\",  lastname-  \"Barrett\" and email -  LBarrett@example.com  first date = 201839  last date = 201899\n",
    "    first_name = input(\"Enter your first name: \")\n",
    "    last_name =  input(\"Enter your last_name: \")\n",
    "    email = input(\"Enter your email: \")\n",
    "    first_date = input(\"Enter the first date: \")\n",
    "    second_date = input(\"Enter the second date: \")\n",
    "\n",
    "    spark.sql(f\"select  FIRST_NAME, LAST_NAME, cd.CUST_EMAIL, ct.CREDIT_CARD_NO, BRANCH_CODE, TRANSACTION_TYPE, TRANSACTION_VALUE, TRANSACTION_ID, ct.TIMEID from customer_detail cd left join cus_transaction ct ON ct. CREDIT_CARD_NO = cd.CREDIT_CARD_NO  where cd.FIRST_NAME = '{first_name}' AND cd.LAST_NAME = '{last_name}' AND cd.CUST_EMAIL = '{email}' AND TIMEID BETWEEN '{first_date}'AND '{second_date}' order by ct.TIMEID DESC\").show()\n",
    "transaction_twoDates()"
   ]
  }
 ],
 "metadata": {
  "kernelspec": {
   "display_name": "Python 3",
   "language": "python",
   "name": "python3"
  },
  "language_info": {
   "codemirror_mode": {
    "name": "ipython",
    "version": 3
   },
   "file_extension": ".py",
   "mimetype": "text/x-python",
   "name": "python",
   "nbconvert_exporter": "python",
   "pygments_lexer": "ipython3",
   "version": "3.10.11"
  }
 },
 "nbformat": 4,
 "nbformat_minor": 2
}
